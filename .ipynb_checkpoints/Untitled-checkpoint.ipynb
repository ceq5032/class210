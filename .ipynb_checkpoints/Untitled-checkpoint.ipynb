{
 "cells": [
  {
   "cell_type": "code",
   "execution_count": 1,
   "id": "8cbe63eb-99ba-4435-a7e7-ed36666c7838",
   "metadata": {},
   "outputs": [],
   "source": [
    "import bs4\n",
    "import requests\n",
    "import os"
   ]
  },
  {
   "cell_type": "code",
   "execution_count": 3,
   "id": "08a8acef-eb1a-4c08-b062-1e0aea783146",
   "metadata": {},
   "outputs": [],
   "source": [
    "archive_url = \"https://www.imdb.com/chart/top/?ref_=nv_mv_250/\""
   ]
  },
  {
   "cell_type": "code",
   "execution_count": 7,
   "id": "9121f3f5-8e8d-428f-86b2-0b008fa50293",
   "metadata": {},
   "outputs": [],
   "source": [
    "def get_tales():\n",
    "    r = requests.get(archive_url)"
   ]
  },
  {
   "cell_type": "code",
   "execution_count": 9,
   "id": "dc516a87-fd75-401d-b836-7f89b3632814",
   "metadata": {},
   "outputs": [
    {
     "ename": "NameError",
     "evalue": "name 'r' is not defined",
     "output_type": "error",
     "traceback": [
      "\u001b[31m---------------------------------------------------------------------------\u001b[39m",
      "\u001b[31mNameError\u001b[39m                                 Traceback (most recent call last)",
      "\u001b[36mCell\u001b[39m\u001b[36m \u001b[39m\u001b[32mIn[9]\u001b[39m\u001b[32m, line 1\u001b[39m\n\u001b[32m----> \u001b[39m\u001b[32m1\u001b[39m soup = bs4.BeautifulSoup(\u001b[43mr\u001b[49m.content, \u001b[33m'\u001b[39m\u001b[33mhtml.parser\u001b[39m\u001b[33m'\u001b[39m)\n",
      "\u001b[31mNameError\u001b[39m: name 'r' is not defined"
     ]
    }
   ],
   "source": [
    "soup = bs4.BeautifulSoup(r.content, 'html.parser')"
   ]
  },
  {
   "cell_type": "code",
   "execution_count": null,
   "id": "abaecf20-012e-43c8-a9a3-802de38a5921",
   "metadata": {},
   "outputs": [],
   "source": [
    "for item in soup.findALL('li'):\n",
    "    link = item.find('a')\n",
    "    href = archive_url + link['href']\n",
    "    download_links(href)\n",
    "    "
   ]
  }
 ],
 "metadata": {
  "kernelspec": {
   "display_name": "Python 3 (ipykernel)",
   "language": "python",
   "name": "python3"
  },
  "language_info": {
   "codemirror_mode": {
    "name": "ipython",
    "version": 3
   },
   "file_extension": ".py",
   "mimetype": "text/x-python",
   "name": "python",
   "nbconvert_exporter": "python",
   "pygments_lexer": "ipython3",
   "version": "3.12.6"
  }
 },
 "nbformat": 4,
 "nbformat_minor": 5
}
